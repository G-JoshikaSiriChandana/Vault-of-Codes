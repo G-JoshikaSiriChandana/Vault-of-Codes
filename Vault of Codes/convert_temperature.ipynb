{
  "nbformat": 4,
  "nbformat_minor": 0,
  "metadata": {
    "colab": {
      "provenance": []
    },
    "kernelspec": {
      "name": "python3",
      "display_name": "Python 3"
    },
    "language_info": {
      "name": "python"
    }
  },
  "cells": [
    {
      "cell_type": "code",
      "execution_count": 1,
      "metadata": {
        "colab": {
          "base_uri": "https://localhost:8080/"
        },
        "id": "b4uCsuUAJ84l",
        "outputId": "d90d1a47-0c1e-4ba2-831e-853902ffc52f"
      },
      "outputs": [
        {
          "output_type": "stream",
          "name": "stdout",
          "text": [
            "37.78\n",
            "32.0\n",
            "Invalid unit. Please use 'F' for Fahrenheit or 'C' for Celsius.\n"
          ]
        }
      ],
      "source": [
        "def convert_temperature(temp, unit):\n",
        "    \"\"\"\n",
        "    Converts temperature between Fahrenheit and Celsius.\n",
        "\n",
        "    Parameters:\n",
        "    temp (float): Temperature value to convert\n",
        "    unit (str): 'F' to convert from Fahrenheit to Celsius,\n",
        "                'C' to convert from Celsius to Fahrenheit\n",
        "\n",
        "    Returns:\n",
        "    float or str: Converted temperature rounded to 2 decimals or error message\n",
        "    \"\"\"\n",
        "    if unit == 'F':\n",
        "        # Convert Fahrenheit to Celsius\n",
        "        celsius = (temp - 32) * 5 / 9\n",
        "        return round(celsius, 2)\n",
        "    elif unit == 'C':\n",
        "        # Convert Celsius to Fahrenheit\n",
        "        fahrenheit = (temp * 9 / 5) + 32\n",
        "        return round(fahrenheit, 2)\n",
        "    else:\n",
        "        return \"Invalid unit. Please use 'F' for Fahrenheit or 'C' for Celsius.\"\n",
        "\n",
        "\n",
        "\n",
        "print(convert_temperature(100, 'F'))\n",
        "print(convert_temperature(0, 'C'))\n",
        "print(convert_temperature(50, 'K'))\n"
      ]
    }
  ]
}